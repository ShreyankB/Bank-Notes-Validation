{
 "cells": [
  {
   "cell_type": "markdown",
   "metadata": {
    "id": "4DBQpAul3xQL"
   },
   "source": [
    "# Preprocessing"
   ]
  },
  {
   "cell_type": "markdown",
   "metadata": {
    "id": "doaRpfI634Og"
   },
   "source": [
    "## imports and load data\n"
   ]
  },
  {
   "cell_type": "code",
   "execution_count": 1,
   "metadata": {
    "id": "IqyHQvoEPViK"
   },
   "outputs": [],
   "source": [
    "import numpy as np\n",
    "import pandas as pd\n",
    "import matplotlib.pyplot as plt\n",
    "import seaborn as sns"
   ]
  },
  {
   "cell_type": "code",
   "execution_count": 2,
   "metadata": {
    "id": "wL3NnB-jPoFf"
   },
   "outputs": [],
   "source": [
    "bank_auth = pd.read_csv('./bank_auth.csv')"
   ]
  },
  {
   "cell_type": "code",
   "execution_count": 3,
   "metadata": {
    "colab": {
     "base_uri": "https://localhost:8080/",
     "height": 206
    },
    "id": "0oE0hDnpP0Vq",
    "outputId": "a599b060-61e4-498d-8a41-13f21eddcadb"
   },
   "outputs": [
    {
     "data": {
      "text/html": [
       "<div>\n",
       "<style scoped>\n",
       "    .dataframe tbody tr th:only-of-type {\n",
       "        vertical-align: middle;\n",
       "    }\n",
       "\n",
       "    .dataframe tbody tr th {\n",
       "        vertical-align: top;\n",
       "    }\n",
       "\n",
       "    .dataframe thead th {\n",
       "        text-align: right;\n",
       "    }\n",
       "</style>\n",
       "<table border=\"1\" class=\"dataframe\">\n",
       "  <thead>\n",
       "    <tr style=\"text-align: right;\">\n",
       "      <th></th>\n",
       "      <th>variance</th>\n",
       "      <th>skewness</th>\n",
       "      <th>curtosis</th>\n",
       "      <th>entropy</th>\n",
       "      <th>target</th>\n",
       "    </tr>\n",
       "  </thead>\n",
       "  <tbody>\n",
       "    <tr>\n",
       "      <th>0</th>\n",
       "      <td>NaN</td>\n",
       "      <td>8.28950</td>\n",
       "      <td>-1.9213</td>\n",
       "      <td>-3.33320</td>\n",
       "      <td>0</td>\n",
       "    </tr>\n",
       "    <tr>\n",
       "      <th>1</th>\n",
       "      <td>-3.11280</td>\n",
       "      <td>-6.84100</td>\n",
       "      <td>10.7402</td>\n",
       "      <td>-1.01720</td>\n",
       "      <td>1</td>\n",
       "    </tr>\n",
       "    <tr>\n",
       "      <th>2</th>\n",
       "      <td>5.39150</td>\n",
       "      <td>9.99460</td>\n",
       "      <td>-3.8081</td>\n",
       "      <td>-3.36420</td>\n",
       "      <td>0</td>\n",
       "    </tr>\n",
       "    <tr>\n",
       "      <th>3</th>\n",
       "      <td>-1.30000</td>\n",
       "      <td>10.26780</td>\n",
       "      <td>NaN</td>\n",
       "      <td>-5.86380</td>\n",
       "      <td>0</td>\n",
       "    </tr>\n",
       "    <tr>\n",
       "      <th>4</th>\n",
       "      <td>-0.49241</td>\n",
       "      <td>0.89392</td>\n",
       "      <td>-1.6283</td>\n",
       "      <td>-0.56854</td>\n",
       "      <td>1</td>\n",
       "    </tr>\n",
       "  </tbody>\n",
       "</table>\n",
       "</div>"
      ],
      "text/plain": [
       "   variance  skewness  curtosis  entropy  target\n",
       "0       NaN   8.28950   -1.9213 -3.33320       0\n",
       "1  -3.11280  -6.84100   10.7402 -1.01720       1\n",
       "2   5.39150   9.99460   -3.8081 -3.36420       0\n",
       "3  -1.30000  10.26780       NaN -5.86380       0\n",
       "4  -0.49241   0.89392   -1.6283 -0.56854       1"
      ]
     },
     "execution_count": 3,
     "metadata": {},
     "output_type": "execute_result"
    }
   ],
   "source": [
    "bank_auth.head()"
   ]
  },
  {
   "cell_type": "code",
   "execution_count": 4,
   "metadata": {
    "colab": {
     "base_uri": "https://localhost:8080/"
    },
    "id": "tmOMkN5IP2hm",
    "outputId": "9cee6091-fbe7-4073-dd4e-f5e4cb5e393a"
   },
   "outputs": [
    {
     "data": {
      "text/plain": [
       "variance    209\n",
       "skewness    216\n",
       "curtosis    242\n",
       "entropy     212\n",
       "target        0\n",
       "dtype: int64"
      ]
     },
     "execution_count": 4,
     "metadata": {},
     "output_type": "execute_result"
    }
   ],
   "source": [
    "bank_auth.isna().sum()"
   ]
  },
  {
   "cell_type": "markdown",
   "metadata": {
    "id": "Ps3xALFu4A0b"
   },
   "source": [
    "## Imbalance check"
   ]
  },
  {
   "cell_type": "code",
   "execution_count": 5,
   "metadata": {
    "colab": {
     "base_uri": "https://localhost:8080/"
    },
    "id": "CY1DnhlKP5wZ",
    "outputId": "f62d1ab3-60e5-46f5-c219-59ce7816be86"
   },
   "outputs": [
    {
     "data": {
      "text/plain": [
       "762"
      ]
     },
     "execution_count": 5,
     "metadata": {},
     "output_type": "execute_result"
    }
   ],
   "source": [
    "bank_auth[\"target\"][bank_auth.target == 0].count()"
   ]
  },
  {
   "cell_type": "code",
   "execution_count": 6,
   "metadata": {
    "colab": {
     "base_uri": "https://localhost:8080/"
    },
    "id": "YJilHB8GTYvB",
    "outputId": "9182a0b9-d25e-4199-c2ba-fb9020c107c9"
   },
   "outputs": [
    {
     "data": {
      "text/plain": [
       "610"
      ]
     },
     "execution_count": 6,
     "metadata": {},
     "output_type": "execute_result"
    }
   ],
   "source": [
    "bank_auth[\"target\"][bank_auth.target == 1].count()"
   ]
  },
  {
   "cell_type": "code",
   "execution_count": 7,
   "metadata": {
    "colab": {
     "base_uri": "https://localhost:8080/",
     "height": 301
    },
    "id": "p-TI1CunTc-k",
    "outputId": "1e051cdd-fd30-49b4-8bac-4c335ce2d543"
   },
   "outputs": [
    {
     "data": {
      "text/plain": [
       "<AxesSubplot:xlabel='target', ylabel='count'>"
      ]
     },
     "execution_count": 7,
     "metadata": {},
     "output_type": "execute_result"
    },
    {
     "data": {
      "image/png": "[encoded data removed]",
      "text/plain": [
       "<Figure size 432x288 with 1 Axes>"
      ]
     },
     "metadata": {
      "needs_background": "light"
     },
     "output_type": "display_data"
    }
   ],
   "source": [
    "sns.countplot(x=bank_auth[\"target\"])"
   ]
  },
  {
   "cell_type": "markdown",
   "metadata": {
    "id": "FSGNA1pP5CSi"
   },
   "source": [
    "## plots\n"
   ]
  },
  {
   "cell_type": "code",
   "execution_count": 8,
   "metadata": {
    "colab": {
     "base_uri": "https://localhost:8080/",
     "height": 467
    },
    "id": "biOsy7uPTogs",
    "outputId": "7fce742f-a174-4f76-979d-5c2f0178e75f"
   },
   "outputs": [
    {
     "name": "stderr",
     "output_type": "stream",
     "text": [
      "/usr/local/lib/python3.7/dist-packages/seaborn/distributions.py:2619: FutureWarning: `distplot` is a deprecated function and will be removed in a future version. Please adapt your code to use either `displot` (a figure-level function with similar flexibility) or `histplot` (an axes-level function for histograms).\n",
      "  warnings.warn(msg, FutureWarning)\n",
      "/usr/local/lib/python3.7/dist-packages/seaborn/distributions.py:2619: FutureWarning: `distplot` is a deprecated function and will be removed in a future version. Please adapt your code to use either `displot` (a figure-level function with similar flexibility) or `histplot` (an axes-level function for histograms).\n",
      "  warnings.warn(msg, FutureWarning)\n",
      "/usr/local/lib/python3.7/dist-packages/seaborn/distributions.py:2619: FutureWarning: `distplot` is a deprecated function and will be removed in a future version. Please adapt your code to use either `displot` (a figure-level function with similar flexibility) or `histplot` (an axes-level function for histograms).\n",
      "  warnings.warn(msg, FutureWarning)\n",
      "/usr/local/lib/python3.7/dist-packages/seaborn/distributions.py:2619: FutureWarning: `distplot` is a deprecated function and will be removed in a future version. Please adapt your code to use either `displot` (a figure-level function with similar flexibility) or `histplot` (an axes-level function for histograms).\n",
      "  warnings.warn(msg, FutureWarning)\n"
     ]
    },
    {
     "data": {
      "image/png": "[encoded data removed]",
      "text/plain": [
       "<Figure size 1152x288 with 4 Axes>"
      ]
     },
     "metadata": {
      "needs_background": "light"
     },
     "output_type": "display_data"
    }
   ],
   "source": [
    "fig, ax = plt.subplots(ncols = 4, figsize=(16, 4))\n",
    "fig.suptitle(\"Distribution Plot\")\n",
    "columns = bank_auth.columns[:-1]\n",
    "\n",
    "for index, column in enumerate(columns):\n",
    "    sns.distplot(bank_auth[column], ax=ax[index])"
   ]
  },
  {
   "cell_type": "code",
   "execution_count": 10,
   "metadata": {
    "colab": {
     "base_uri": "https://localhost:8080/",
     "height": 370
    },
    "id": "1bunAaGY4i2M",
    "outputId": "6146b750-9d9c-42cc-da6e-3585b1775474"
   },
   "outputs": [
    {
     "data": {
      "image/png": "[encoded data removed]",
      "text/plain": [
       "<Figure size 1440x360 with 4 Axes>"
      ]
     },
     "metadata": {
      "needs_background": "light"
     },
     "output_type": "display_data"
    }
   ],
   "source": [
    "fig, ax = plt.subplots(ncols=4, figsize=(20, 5))\n",
    "fig.suptitle(\"feature wise box plots\")\n",
    "columns = bank_auth.columns[:-1]\n",
    "\n",
    "for index, column in enumerate(columns):\n",
    "    sns.boxplot(x=column, data=bank_auth, ax=ax[index])"
   ]
  },
  {
   "cell_type": "code",
   "execution_count": 11,
   "metadata": {
    "colab": {
     "base_uri": "https://localhost:8080/",
     "height": 287
    },
    "id": "XNYTU4XiUS3B",
    "outputId": "d9df7075-ada7-4e6b-d242-ec45467ad5c2"
   },
   "outputs": [
    {
     "data": {
      "text/plain": [
       "<AxesSubplot:>"
      ]
     },
     "execution_count": 11,
     "metadata": {},
     "output_type": "execute_result"
    },
    {
     "data": {
      "image/png": "[encoded data removed]",
      "text/plain": [
       "<Figure size 432x288 with 2 Axes>"
      ]
     },
     "metadata": {
      "needs_background": "light"
     },
     "output_type": "display_data"
    }
   ],
   "source": [
    "sns.heatmap(bank_auth.corr(), annot=True)"
   ]
  },
  {
   "cell_type": "markdown",
   "metadata": {
    "id": "NQQ83lI_X_7M"
   },
   "source": [
    "## filling NaN"
   ]
  },
  {
   "cell_type": "code",
   "execution_count": 12,
   "metadata": {
    "colab": {
     "base_uri": "https://localhost:8080/",
     "height": 300
    },
    "id": "gYSbMokeYCOu",
    "outputId": "7e55ffd8-1598-4e95-e376-8461e885f3b6"
   },
   "outputs": [
    {
     "data": {
      "text/html": [
       "<div>\n",
       "<style scoped>\n",
       "    .dataframe tbody tr th:only-of-type {\n",
       "        vertical-align: middle;\n",
       "    }\n",
       "\n",
       "    .dataframe tbody tr th {\n",
       "        vertical-align: top;\n",
       "    }\n",
       "\n",
       "    .dataframe thead th {\n",
       "        text-align: right;\n",
       "    }\n",
       "</style>\n",
       "<table border=\"1\" class=\"dataframe\">\n",
       "  <thead>\n",
       "    <tr style=\"text-align: right;\">\n",
       "      <th></th>\n",
       "      <th>variance</th>\n",
       "      <th>skewness</th>\n",
       "      <th>curtosis</th>\n",
       "      <th>entropy</th>\n",
       "      <th>target</th>\n",
       "    </tr>\n",
       "  </thead>\n",
       "  <tbody>\n",
       "    <tr>\n",
       "      <th>count</th>\n",
       "      <td>1163.000000</td>\n",
       "      <td>1156.000000</td>\n",
       "      <td>1130.000000</td>\n",
       "      <td>1160.000000</td>\n",
       "      <td>1372.000000</td>\n",
       "    </tr>\n",
       "    <tr>\n",
       "      <th>mean</th>\n",
       "      <td>0.404224</td>\n",
       "      <td>1.963184</td>\n",
       "      <td>1.383160</td>\n",
       "      <td>-1.181916</td>\n",
       "      <td>0.444606</td>\n",
       "    </tr>\n",
       "    <tr>\n",
       "      <th>std</th>\n",
       "      <td>2.873929</td>\n",
       "      <td>5.871327</td>\n",
       "      <td>4.288508</td>\n",
       "      <td>2.111129</td>\n",
       "      <td>0.497103</td>\n",
       "    </tr>\n",
       "    <tr>\n",
       "      <th>min</th>\n",
       "      <td>-7.042100</td>\n",
       "      <td>-13.773100</td>\n",
       "      <td>-5.286100</td>\n",
       "      <td>-8.548200</td>\n",
       "      <td>0.000000</td>\n",
       "    </tr>\n",
       "    <tr>\n",
       "      <th>25%</th>\n",
       "      <td>-1.842500</td>\n",
       "      <td>-1.708200</td>\n",
       "      <td>-1.553975</td>\n",
       "      <td>-2.314575</td>\n",
       "      <td>0.000000</td>\n",
       "    </tr>\n",
       "    <tr>\n",
       "      <th>50%</th>\n",
       "      <td>0.433900</td>\n",
       "      <td>2.334150</td>\n",
       "      <td>0.629915</td>\n",
       "      <td>-0.569835</td>\n",
       "      <td>0.000000</td>\n",
       "    </tr>\n",
       "    <tr>\n",
       "      <th>75%</th>\n",
       "      <td>2.841000</td>\n",
       "      <td>6.860700</td>\n",
       "      <td>3.093325</td>\n",
       "      <td>0.403863</td>\n",
       "      <td>1.000000</td>\n",
       "    </tr>\n",
       "    <tr>\n",
       "      <th>max</th>\n",
       "      <td>6.824800</td>\n",
       "      <td>12.951600</td>\n",
       "      <td>17.927400</td>\n",
       "      <td>2.449500</td>\n",
       "      <td>1.000000</td>\n",
       "    </tr>\n",
       "  </tbody>\n",
       "</table>\n",
       "</div>"
      ],
      "text/plain": [
       "          variance     skewness     curtosis      entropy       target\n",
       "count  1163.000000  1156.000000  1130.000000  1160.000000  1372.000000\n",
       "mean      0.404224     1.963184     1.383160    -1.181916     0.444606\n",
       "std       2.873929     5.871327     4.288508     2.111129     0.497103\n",
       "min      -7.042100   -13.773100    -5.286100    -8.548200     0.000000\n",
       "25%      -1.842500    -1.708200    -1.553975    -2.314575     0.000000\n",
       "50%       0.433900     2.334150     0.629915    -0.569835     0.000000\n",
       "75%       2.841000     6.860700     3.093325     0.403863     1.000000\n",
       "max       6.824800    12.951600    17.927400     2.449500     1.000000"
      ]
     },
     "execution_count": 12,
     "metadata": {},
     "output_type": "execute_result"
    }
   ],
   "source": [
    "bank_auth.describe()"
   ]
  },
  {
   "cell_type": "code",
   "execution_count": 13,
   "metadata": {
    "id": "0ep8aNIWYpCo"
   },
   "outputs": [],
   "source": [
    "bank_auth[\"variance\"].fillna(bank_auth[\"variance\"].mean(), inplace=True)"
   ]
  },
  {
   "cell_type": "code",
   "execution_count": 14,
   "metadata": {
    "id": "Yq3FwnqeZElh"
   },
   "outputs": [],
   "source": [
    "bank_auth[\"skewness\"].fillna(bank_auth[\"skewness\"].median(), inplace=True)\n",
    "bank_auth[\"curtosis\"].fillna(bank_auth[\"curtosis\"].median(), inplace=True)\n",
    "bank_auth[\"entropy\"].fillna(bank_auth[\"entropy\"].median(), inplace=True)"
   ]
  },
  {
   "cell_type": "markdown",
   "metadata": {
    "id": "6XEUTkDeyOxU"
   },
   "source": [
    "## outlier"
   ]
  },
  {
   "cell_type": "code",
   "execution_count": 15,
   "metadata": {
    "colab": {
     "base_uri": "https://localhost:8080/"
    },
    "id": "aq2AjIZMySYv",
    "outputId": "ea74bc87-86b1-47a3-884e-13044a6f7da3"
   },
   "outputs": [
    {
     "data": {
      "text/plain": [
       "215"
      ]
     },
     "execution_count": 15,
     "metadata": {},
     "output_type": "execute_result"
    }
   ],
   "source": [
    "bank_auth['skewness'][bank_auth.skewness > 8].count()"
   ]
  },
  {
   "cell_type": "code",
   "execution_count": 16,
   "metadata": {
    "colab": {
     "base_uri": "https://localhost:8080/"
    },
    "id": "E00a3CC6yOh6",
    "outputId": "25fb79ee-2a9e-4c85-d334-ab046605acb8"
   },
   "outputs": [
    {
     "data": {
      "text/plain": [
       "14"
      ]
     },
     "execution_count": 16,
     "metadata": {},
     "output_type": "execute_result"
    }
   ],
   "source": [
    "bank_auth['curtosis'][bank_auth.curtosis > 15].count()"
   ]
  },
  {
   "cell_type": "markdown",
   "metadata": {
    "id": "yZ00GflTXJ6e"
   },
   "source": [
    "## normalize / standardize"
   ]
  },
  {
   "cell_type": "code",
   "execution_count": 17,
   "metadata": {
    "id": "1Cv_F261XMEj"
   },
   "outputs": [],
   "source": [
    "class DataNormalize:\n",
    "  def min_max_normalize(self, df, cols):\n",
    "    for col in cols:\n",
    "      min = df[col].min()\n",
    "      max = df[col].max()\n",
    "      df[col] = (df[col] - min) / (max - min)\n",
    "    return df"
   ]
  },
  {
   "cell_type": "code",
   "execution_count": 18,
   "metadata": {
    "id": "PktIBK6aXMmC"
   },
   "outputs": [],
   "source": [
    "class DataStandardize:\n",
    "  def standardization(self, df, cols):\n",
    "    for col in cols:\n",
    "      mean = df[col].mean()\n",
    "      std = df[col].std()\n",
    "      df[col] = (df[col] - mean) / std\n",
    "    \n",
    "    return df"
   ]
  },
  {
   "cell_type": "code",
   "execution_count": 19,
   "metadata": {
    "id": "F8wRWvbOXOcr"
   },
   "outputs": [],
   "source": [
    "std = DataStandardize()"
   ]
  },
  {
   "cell_type": "code",
   "execution_count": 20,
   "metadata": {
    "id": "VY8UK5_NXR2R"
   },
   "outputs": [],
   "source": [
    "bank_auth = std.standardization(bank_auth, bank_auth.columns[:-1])"
   ]
  },
  {
   "cell_type": "code",
   "execution_count": 21,
   "metadata": {
    "colab": {
     "base_uri": "https://localhost:8080/",
     "height": 300
    },
    "id": "F5RTDnDHaxI6",
    "outputId": "0b0b1292-5fd9-419f-848a-a830b7dc18b8"
   },
   "outputs": [
    {
     "data": {
      "text/html": [
       "<div>\n",
       "<style scoped>\n",
       "    .dataframe tbody tr th:only-of-type {\n",
       "        vertical-align: middle;\n",
       "    }\n",
       "\n",
       "    .dataframe tbody tr th {\n",
       "        vertical-align: top;\n",
       "    }\n",
       "\n",
       "    .dataframe thead th {\n",
       "        text-align: right;\n",
       "    }\n",
       "</style>\n",
       "<table border=\"1\" class=\"dataframe\">\n",
       "  <thead>\n",
       "    <tr style=\"text-align: right;\">\n",
       "      <th></th>\n",
       "      <th>variance</th>\n",
       "      <th>skewness</th>\n",
       "      <th>curtosis</th>\n",
       "      <th>entropy</th>\n",
       "      <th>target</th>\n",
       "    </tr>\n",
       "  </thead>\n",
       "  <tbody>\n",
       "    <tr>\n",
       "      <th>count</th>\n",
       "      <td>1.372000e+03</td>\n",
       "      <td>1.372000e+03</td>\n",
       "      <td>1.372000e+03</td>\n",
       "      <td>1.372000e+03</td>\n",
       "      <td>1372.000000</td>\n",
       "    </tr>\n",
       "    <tr>\n",
       "      <th>mean</th>\n",
       "      <td>-9.601310e-16</td>\n",
       "      <td>-7.207194e-16</td>\n",
       "      <td>3.747003e-16</td>\n",
       "      <td>8.522701e-16</td>\n",
       "      <td>0.444606</td>\n",
       "    </tr>\n",
       "    <tr>\n",
       "      <th>std</th>\n",
       "      <td>1.000000e+00</td>\n",
       "      <td>1.000000e+00</td>\n",
       "      <td>1.000000e+00</td>\n",
       "      <td>1.000000e+00</td>\n",
       "      <td>0.497103</td>\n",
       "    </tr>\n",
       "    <tr>\n",
       "      <th>min</th>\n",
       "      <td>-2.814372e+00</td>\n",
       "      <td>-2.929989e+00</td>\n",
       "      <td>-1.675038e+00</td>\n",
       "      <td>-3.818973e+00</td>\n",
       "      <td>0.000000</td>\n",
       "    </tr>\n",
       "    <tr>\n",
       "      <th>25%</th>\n",
       "      <td>-7.240001e-01</td>\n",
       "      <td>-4.480447e-01</td>\n",
       "      <td>-5.600372e-01</td>\n",
       "      <td>-3.720061e-01</td>\n",
       "      <td>0.000000</td>\n",
       "    </tr>\n",
       "    <tr>\n",
       "      <th>50%</th>\n",
       "      <td>-7.972664e-16</td>\n",
       "      <td>5.798193e-02</td>\n",
       "      <td>-1.589816e-01</td>\n",
       "      <td>2.648928e-01</td>\n",
       "      <td>0.000000</td>\n",
       "    </tr>\n",
       "    <tr>\n",
       "      <th>75%</th>\n",
       "      <td>7.565047e-01</td>\n",
       "      <td>7.460513e-01</td>\n",
       "      <td>3.039924e-01</td>\n",
       "      <td>6.765904e-01</td>\n",
       "      <td>1.000000</td>\n",
       "    </tr>\n",
       "    <tr>\n",
       "      <th>max</th>\n",
       "      <td>2.426686e+00</td>\n",
       "      <td>2.027569e+00</td>\n",
       "      <td>4.273726e+00</td>\n",
       "      <td>1.810392e+00</td>\n",
       "      <td>1.000000</td>\n",
       "    </tr>\n",
       "  </tbody>\n",
       "</table>\n",
       "</div>"
      ],
      "text/plain": [
       "           variance      skewness      curtosis       entropy       target\n",
       "count  1.372000e+03  1.372000e+03  1.372000e+03  1.372000e+03  1372.000000\n",
       "mean  -9.601310e-16 -7.207194e-16  3.747003e-16  8.522701e-16     0.444606\n",
       "std    1.000000e+00  1.000000e+00  1.000000e+00  1.000000e+00     0.497103\n",
       "min   -2.814372e+00 -2.929989e+00 -1.675038e+00 -3.818973e+00     0.000000\n",
       "25%   -7.240001e-01 -4.480447e-01 -5.600372e-01 -3.720061e-01     0.000000\n",
       "50%   -7.972664e-16  5.798193e-02 -1.589816e-01  2.648928e-01     0.000000\n",
       "75%    7.565047e-01  7.460513e-01  3.039924e-01  6.765904e-01     1.000000\n",
       "max    2.426686e+00  2.027569e+00  4.273726e+00  1.810392e+00     1.000000"
      ]
     },
     "execution_count": 21,
     "metadata": {},
     "output_type": "execute_result"
    }
   ],
   "source": [
    "bank_auth.describe()"
   ]
  },
  {
   "cell_type": "markdown",
   "metadata": {
    "id": "s0BMGwQaD9iB"
   },
   "source": [
    "# spliting data into training & testing\n"
   ]
  },
  {
   "cell_type": "code",
   "execution_count": 22,
   "metadata": {
    "id": "ji0H3vzsEEB2"
   },
   "outputs": [],
   "source": [
    "SPLIT_SIZE = 0.8\n",
    "np.random.seed(0)\n",
    "X = bank_auth.to_numpy().astype(np.float64)\n",
    "np.random.shuffle(X)\n",
    "y = X[:,-1]\n",
    "X = np.delete(X, X.shape[1]-1, 1)"
   ]
  },
  {
   "cell_type": "code",
   "execution_count": 25,
   "metadata": {
    "id": "djjGjlX6Ef6d"
   },
   "outputs": [],
   "source": [
    "train_X = X[0:int(X.shape[0]*SPLIT_SIZE),:]\n",
    "train_y = y[0:int(y.shape[0]*SPLIT_SIZE)]\n",
    "test_X = X[int(X.shape[0]*SPLIT_SIZE):,:]\n",
    "test_y = y[int(y.shape[0]*SPLIT_SIZE):]"
   ]
  },
  {
   "cell_type": "markdown",
   "metadata": {
    "id": "W5YZVP07-HGr"
   },
   "source": [
    "# Accuracy calculation\n"
   ]
  },
  {
   "cell_type": "code",
   "execution_count": 27,
   "metadata": {
    "id": "bgUlFU3i-K6C"
   },
   "outputs": [],
   "source": [
    "def accuracy_metric(actual, predicted):\n",
    "    correct = 0\n",
    "    for i in range(len(actual)):\n",
    "        if actual[i] == predicted[i]:\n",
    "            correct += 1\n",
    "    return correct / float(len(actual)) * 100.0"
   ]
  },
  {
   "cell_type": "markdown",
   "metadata": {
    "id": "io8gViZ1e4w3"
   },
   "source": [
    "# Logistic regression\n"
   ]
  },
  {
   "cell_type": "code",
   "execution_count": 28,
   "metadata": {
    "id": "PhhdWXCCe8HN"
   },
   "outputs": [],
   "source": [
    "class Logistic_Regression:\n",
    "  def __init__(self):\n",
    "    self.w_gd = []\n",
    "    self.w_nm = []\n",
    "    self.cost_fn_gd = []\n",
    "    self.cost_fn_nm = []\n",
    "\n",
    "  def calc_sigmoid(self, result):\n",
    "    \"\"\"      \n",
    "      it calculates sigmoid for each entry of given input array \n",
    "    \"\"\"\n",
    "    prob_of_rows = 1/(1+np.exp(-result))\n",
    "    return prob_of_rows\n",
    "  \n",
    "  def fit_gd(self, X, Y, learning_rate, no_iterations):\n",
    "    X = np.hstack([X, np.ones(shape=(X.shape[0], 1))])  # adding a column of ones it'll help to calculate b term in wx + b equation\n",
    "    m = X.shape[0]                                      # no of rows in feature matrix\n",
    "    w = np.zeros((1,X.shape[1]))                        # weight vector for logistic regression calculation\n",
    "    \n",
    "\n",
    "    for i in range(no_iterations):\n",
    "        prob_of_rows = self.calc_sigmoid(np.dot(w,X.T)) # calculates sigmoid value for each row in feature matrix  \n",
    "        Y_T = Y.T           \n",
    "        self.cost_fn_gd.append((-1/m)*(np.sum((Y.T*np.log(prob_of_rows)) + ((1-Y.T)*(np.log(1-prob_of_rows)))))) # calcultes cost fn\n",
    "\n",
    "        # gradient descent calculation\n",
    "        dw = (1/m)*(np.dot(X.T, (prob_of_rows-Y.T).T))    \n",
    "        w = w - (learning_rate * (dw.T))\n",
    "    \n",
    "    self.w_gd = np.copy(w)                                          # assigning weight to instance variable, it'll help predict method\n",
    "    print(\"weight vector \" + str(w))                                \n",
    "\n",
    "  def fit_nm(self, X, Y, learning_rate, no_iterations):\n",
    "    X = np.hstack([X, np.ones(shape=(X.shape[0], 1))])  # adding a column of ones it'll help to calculate b term in wx + b equation\n",
    "    w = np.zeros((1,X.shape[1]))                        # weight vector for logistic regression calculation\n",
    "\n",
    "    prob_of_rows = self.calc_sigmoid(np.dot(w,X.T))     # calculates sigmoid value for each row in feature matrix\n",
    "    m = X.shape[0]                                      # no of rows in feature matrix\n",
    "    Y_T = Y.T\n",
    "    self.cost_fn = []\n",
    "\n",
    "    for i in range(no_iterations):\n",
    "        dtemp = (1/m)*(np.dot(X.T, (prob_of_rows-Y.T).T)) \n",
    "        db = (1/m)*(np.sum(prob_of_rows-Y.T))\n",
    "        B = np.zeros((m, m))\n",
    "        self.cost_fn_nm.append((-1/m)*(np.sum((Y.T*np.log(prob_of_rows)) + ((1-Y.T)*(np.log(1-prob_of_rows)))))) # cost calculation\n",
    "\n",
    "        for i in range(m):\n",
    "          B[i, i] = prob_of_rows[0, i] * (1 - prob_of_rows[0, i]) # adding p(1-p) at diagonal it'll help calculating hesian\n",
    "\n",
    "        dw = np.dot(np.linalg.inv(np.dot(X.T, np.dot(B, X))), dtemp) # hessian.dw calculated here\n",
    "        w = w -  (dw.T) \n",
    "    \n",
    "    self.w_nm = np.copy(w)                                          # making weight as instance variable, it'll help predict method\n",
    "    print(str(w))\n",
    "\n",
    "  def test_gd(self, X, y):\n",
    "    train_y_hat = self.predict_gd(X)\n",
    "    print('Accuracy :',accuracy_metric(train_y_hat.T, y))\n",
    "\n",
    "  def test_nm(self, X, y):\n",
    "    train_y_hat = self.predict_nm(X)\n",
    "    print('Accuracy :',accuracy_metric(train_y_hat.T, y))\n",
    "\n",
    "  def predict_gd(self, X):\n",
    "    X = np.hstack([X, np.ones(shape=(X.shape[0], 1))])\n",
    "    prob = self.calc_sigmoid(np.dot(self.w_gd, X.T))\n",
    "    y_pred = np.zeros((1,X.shape[0]))\n",
    "\n",
    "    for i in range(X.shape[0]):\n",
    "        if prob[0][i] > 0.5:\n",
    "            y_pred[0][i] = 1\n",
    "    return y_pred\n",
    "  \n",
    "  def predict_nm(self, X):\n",
    "    X = np.hstack([X, np.ones(shape=(X.shape[0], 1))])\n",
    "    prob = self.calc_sigmoid(np.dot(self.w_nm, X.T))\n",
    "    y_pred = np.zeros((1,X.shape[0]))\n",
    "\n",
    "    for i in range(X.shape[0]):\n",
    "        if prob[0][i] > 0.5:\n",
    "            y_pred[0][i] = 1\n",
    "    return y_pred"
   ]
  },
  {
   "cell_type": "markdown",
   "metadata": {
    "id": "cj-sKPgZ-Uqq"
   },
   "source": [
    "# Analysis Logistic Regression"
   ]
  },
  {
   "cell_type": "code",
   "execution_count": 29,
   "metadata": {
    "id": "W64FSbkfe8HO"
   },
   "outputs": [],
   "source": [
    "lr = Logistic_Regression()"
   ]
  },
  {
   "cell_type": "code",
   "execution_count": 30,
   "metadata": {
    "colab": {
     "base_uri": "https://localhost:8080/"
    },
    "id": "W7iIxmEre8HP",
    "outputId": "791c8dcb-e12f-48a1-f09d-4777942dd97a"
   },
   "outputs": [
    {
     "name": "stdout",
     "output_type": "stream",
     "text": [
      "[[-1.2910234  -0.87779687 -0.72966455  0.05576375 -0.18622203]]\n"
     ]
    }
   ],
   "source": [
    "lr.fit_nm(train_X, train_y, 0.1, 1000)"
   ]
  },
  {
   "cell_type": "code",
   "execution_count": 32,
   "metadata": {
    "colab": {
     "base_uri": "https://localhost:8080/"
    },
    "id": "KIJoqdk-e8HQ",
    "outputId": "8aa48dc9-c3d8-424e-dc5d-3620f483d87e"
   },
   "outputs": [
    {
     "name": "stdout",
     "output_type": "stream",
     "text": [
      "Accuracy : 89.79033728350045\n",
      "Accuracy : 90.54545454545455\n"
     ]
    }
   ],
   "source": [
    "lr.test_nm(train_X, train_y)\n",
    "lr.test_nm(test_X, test_y)"
   ]
  },
  {
   "cell_type": "code",
   "execution_count": 33,
   "metadata": {
    "colab": {
     "base_uri": "https://localhost:8080/",
     "height": 350
    },
    "id": "ahcC43MrXyTX",
    "outputId": "5faa308e-bd99-46fe-bb16-7f1cfa1c3e70"
   },
   "outputs": [
    {
     "name": "stderr",
     "output_type": "stream",
     "text": [
      "<ipython-input-33-35e2fd9f22e3>:5: UserWarning: Attempting to set identical bottom == top == 0.6931471805599453 results in singular transformations; automatically expanding.\n",
      "  plt.axis((0,len(y_axis),np.amin(y_axis),np.amax(y_axis)))\n"
     ]
    },
    {
     "data": {
      "image/png": "[encoded data removed]",
      "text/plain": [
       "<Figure size 432x288 with 1 Axes>"
      ]
     },
     "metadata": {
      "needs_background": "light"
     },
     "output_type": "display_data"
    }
   ],
   "source": [
    "y_axis = lr.cost_fn_nm\n",
    "plt.title(\"Newton method loss\") \n",
    "plt.xlabel(\"x axis caption\") \n",
    "plt.ylabel(\"y axis caption\") \n",
    "plt.axis((0,len(y_axis),np.amin(y_axis),np.amax(y_axis)))\n",
    "plt.plot(list(range(len(y_axis))), y_axis) \n",
    "plt.show()"
   ]
  },
  {
   "cell_type": "code",
   "execution_count": 34,
   "metadata": {
    "colab": {
     "base_uri": "https://localhost:8080/"
    },
    "id": "DMupb1MCjvGw",
    "outputId": "f578eb4b-2e9b-4ffd-9074-f527e7d11d4a"
   },
   "outputs": [
    {
     "name": "stdout",
     "output_type": "stream",
     "text": [
      "weight vector [[-3.96993931 -2.42694454 -1.6982602   0.02543396 -0.5196062 ]]\n"
     ]
    }
   ],
   "source": [
    "lr.fit_gd(train_X, train_y, 0.1, 3000)"
   ]
  },
  {
   "cell_type": "code",
   "execution_count": 35,
   "metadata": {
    "colab": {
     "base_uri": "https://localhost:8080/",
     "height": 295
    },
    "id": "VVk9QPjPaDSz",
    "outputId": "b4120c66-fc8e-49f7-af31-d33be0b041bc"
   },
   "outputs": [
    {
     "data": {
      "image/png": "[encoded data removed]",
      "text/plain": [
       "<Figure size 432x288 with 1 Axes>"
      ]
     },
     "metadata": {
      "needs_background": "light"
     },
     "output_type": "display_data"
    }
   ],
   "source": [
    "y_axis = lr.cost_fn_gd\n",
    "plt.title(\"gradient descent method loss\") \n",
    "plt.xlabel(\"x axis caption\") \n",
    "plt.ylabel(\"y axis caption\") \n",
    "plt.plot(list(range(len(y_axis))), y_axis) \n",
    "plt.show()"
   ]
  },
  {
   "cell_type": "code",
   "execution_count": 36,
   "metadata": {
    "colab": {
     "base_uri": "https://localhost:8080/"
    },
    "id": "EKeInmvGjvo2",
    "outputId": "576871ad-d9b8-470f-c117-ad97d39e13a1"
   },
   "outputs": [
    {
     "name": "stdout",
     "output_type": "stream",
     "text": [
      "Accuracy : 89.88149498632635\n",
      "Accuracy : 89.45454545454545\n"
     ]
    }
   ],
   "source": [
    "lr.test_gd(train_X, train_y)\n",
    "lr.test_gd(test_X, test_y)"
   ]
  },
  {
   "cell_type": "markdown",
   "metadata": {
    "id": "llz1dzCL-Ysk"
   },
   "source": [
    "# Gaussian Naive Bayes"
   ]
  },
  {
   "cell_type": "code",
   "execution_count": 37,
   "metadata": {
    "id": "c6rYEtRsGW-B"
   },
   "outputs": [],
   "source": [
    "class GaussianNaiveBayes:\n",
    "  def __init__(self):\n",
    "    self.feature_means = []\n",
    "    self.feature_std = []\n",
    "    self.features = 0\n",
    "    self.classes = 0\n",
    "\n",
    "  def calc_prior(self, y):\n",
    "      # calculates prior probability for all unique classes\n",
    "      classes = np.unique(y)\n",
    "      prior = []\n",
    "      for i in classes:\n",
    "          count = np.count_nonzero(y == i)\n",
    "          prior.append(count/y.shape[0]) \n",
    "      return prior\n",
    "\n",
    "  def calc_likelihood(self, mean, std, feat_val):\n",
    "      p_x_given_y = (1 / (np.sqrt(2 * np.pi) * std)) *  np.exp(-((feat_val-mean)**2 / (2 * std**2 )))\n",
    "      return p_x_given_y \n",
    "\n",
    "  def fit_gaussian(self, X, y):\n",
    "      # calculates (number of classes * number of feature) gaussian distribution\n",
    "      self.features = X.shape[1]\n",
    "      self.classes = len(np.unique(y))\n",
    "      self.feature_means = np.zeros(shape=(self.classes, self.features))\n",
    "      self.feature_std = np.zeros(shape=(self.classes, self.features))\n",
    "\n",
    "      for i in range(self.classes):\n",
    "        unique = np.unique(y)\n",
    "        indices = np.where(y == unique[i]) # stores indices of unique[i] class\n",
    "        temp = X[indices]                  # fetches rows with class as unique[i] \n",
    "        mean = np.mean(temp, axis=0)       # calculates col wise mean for all features\n",
    "        std = np.std(temp, axis=0)         # calculates col wise std for all features\n",
    "\n",
    "        for j in range(self.features):\n",
    "          # stores mean std class, feature wise\n",
    "          self.feature_means[i, j] = mean[j] \n",
    "          self.feature_std[i, j] = std[j]\n",
    "      \n",
    "    \n",
    "  def predict_nb(self, X, y):\n",
    "      feature_count = X.shape[1]\n",
    "      prior = self.calc_prior(y)\n",
    "      Y_pred = []\n",
    "\n",
    "      for x in X:\n",
    "          class_labels = np.unique(y)\n",
    "          likelihood = np.ones(len(class_labels)) # create list of 1's of size len(labels)\n",
    "\n",
    "          for j in range(len(class_labels)):\n",
    "              for i in range(feature_count):\n",
    "                  likelihood[j] *= self.calc_likelihood(self.feature_means[j, i], self.feature_std[j, i], x[i])\n",
    "\n",
    "\n",
    "          post_prob =  np.ones(len(class_labels))\n",
    "          \n",
    "          for j in range(len(class_labels)):\n",
    "              post_prob[j] = likelihood[j] * prior[j] # in gnb divider term is constant \n",
    "\n",
    "          Y_pred.append(np.argmax(post_prob))\n",
    "\n",
    "      return np.array(Y_pred)\n",
    "    \n",
    "  def test_gnb(self, X, y):\n",
    "      Y_pred = self.predict_nb(X, y)\n",
    "      print(accuracy_metric(y, Y_pred))\n"
   ]
  },
  {
   "cell_type": "markdown",
   "metadata": {
    "id": "8r65muGD-ahd"
   },
   "source": [
    "# Analysis Naive Bayes"
   ]
  },
  {
   "cell_type": "markdown",
   "metadata": {
    "id": "5yU13U6rc43n"
   },
   "source": [
    "## multivariate"
   ]
  },
  {
   "cell_type": "code",
   "execution_count": 38,
   "metadata": {
    "colab": {
     "base_uri": "https://localhost:8080/"
    },
    "id": "P0Nk0YDnhGeo",
    "outputId": "31ad7d1c-0115-4fd1-b630-0798fd6812c7"
   },
   "outputs": [
    {
     "name": "stdout",
     "output_type": "stream",
     "text": [
      "81.03919781221514\n"
     ]
    }
   ],
   "source": [
    "nb = GaussianNaiveBayes()\n",
    "nb.fit_gaussian(train_X, train_y)\n",
    "nb.test_gnb(train_X, train_y)\n"
   ]
  },
  {
   "cell_type": "code",
   "execution_count": 39,
   "metadata": {
    "colab": {
     "base_uri": "https://localhost:8080/"
    },
    "id": "QovpJ18YhGeq",
    "outputId": "393b24fe-ca93-46b5-c26e-11453f23980f"
   },
   "outputs": [
    {
     "name": "stdout",
     "output_type": "stream",
     "text": [
      "77.81818181818181\n"
     ]
    }
   ],
   "source": [
    "nb.test_gnb(test_X, test_y)\n"
   ]
  },
  {
   "cell_type": "markdown",
   "metadata": {
    "id": "VAV_PbgWc8bV"
   },
   "source": [
    "## univariate analysis\n"
   ]
  },
  {
   "cell_type": "code",
   "execution_count": 40,
   "metadata": {
    "colab": {
     "base_uri": "https://localhost:8080/"
    },
    "id": "F9j7bgptkuE1",
    "outputId": "995414c3-394d-43a2-b7c1-caca7fa9e5eb"
   },
   "outputs": [
    {
     "name": "stdout",
     "output_type": "stream",
     "text": [
      "81.13035551504102\n",
      "79.63636363636364\n"
     ]
    }
   ],
   "source": [
    "# variance column\n",
    "nb_u = GaussianNaiveBayes()\n",
    "nb_u.fit_gaussian(train_X[:, 0].reshape(-1, 1), train_y)\n",
    "nb.test_gnb(train_X[:, 0].reshape(-1, 1), train_y)\n",
    "nb.test_gnb(test_X[:,0].reshape(-1,1), test_y)"
   ]
  },
  {
   "cell_type": "code",
   "execution_count": 41,
   "metadata": {
    "colab": {
     "base_uri": "https://localhost:8080/"
    },
    "id": "I1FhlyBNdRCV",
    "outputId": "8832843e-a162-4bf0-c92b-a052890d4181"
   },
   "outputs": [
    {
     "name": "stdout",
     "output_type": "stream",
     "text": [
      "61.16681859617138\n",
      "62.909090909090914\n"
     ]
    }
   ],
   "source": [
    "# skewness column\n",
    "nb_u = GaussianNaiveBayes()\n",
    "nb_u.fit_gaussian(train_X[:,1].reshape(-1, 1), train_y)\n",
    "nb.test_gnb(train_X[:, 1].reshape(-1, 1), train_y)\n",
    "nb.test_gnb(test_X[:,1].reshape(-1,1), test_y)"
   ]
  },
  {
   "cell_type": "code",
   "execution_count": 42,
   "metadata": {
    "colab": {
     "base_uri": "https://localhost:8080/"
    },
    "id": "fXRXFidodj0g",
    "outputId": "bb776150-7406-47d9-f225-39eb5d9b3aa5"
   },
   "outputs": [
    {
     "name": "stdout",
     "output_type": "stream",
     "text": [
      "49.68094804010939\n",
      "56.36363636363636\n"
     ]
    }
   ],
   "source": [
    "# curtosis column\n",
    "nb_u = GaussianNaiveBayes()\n",
    "nb_u.fit_gaussian(train_X[:, 2].reshape(-1, 1), train_y)\n",
    "nb.test_gnb(train_X[:, 2].reshape(-1, 1), train_y)\n",
    "nb.test_gnb(test_X[:,2].reshape(-1,1), test_y)"
   ]
  },
  {
   "cell_type": "code",
   "execution_count": 43,
   "metadata": {
    "colab": {
     "base_uri": "https://localhost:8080/"
    },
    "id": "UpUpg1oIdm6j",
    "outputId": "c586941a-fbd0-4b74-a6bd-9321f0371a31"
   },
   "outputs": [
    {
     "name": "stdout",
     "output_type": "stream",
     "text": [
      "55.51504102096627\n",
      "47.63636363636364\n"
     ]
    }
   ],
   "source": [
    "# entropy column\n",
    "nb_u = GaussianNaiveBayes()\n",
    "nb_u.fit_gaussian(train_X[:, 3].reshape(-1, 1), train_y)\n",
    "nb.test_gnb(train_X[:, 3].reshape(-1, 1), train_y)\n",
    "nb.test_gnb(test_X[:,3].reshape(-1,1), test_y)"
   ]
  }
 ],
 "metadata": {
  "colab": {
   "name": "MT2021130_classification.ipynb",
   "provenance": []
  },
  "kernelspec": {
   "display_name": "Python 3",
   "language": "python",
   "name": "python3"
  },
  "language_info": {
   "codemirror_mode": {
    "name": "ipython",
    "version": 3
   },
   "file_extension": ".py",
   "mimetype": "text/x-python",
   "name": "python",
   "nbconvert_exporter": "python",
   "pygments_lexer": "ipython3",
   "version": "3.8.8"
  }
 },
 "nbformat": 4,
 "nbformat_minor": 1
}
